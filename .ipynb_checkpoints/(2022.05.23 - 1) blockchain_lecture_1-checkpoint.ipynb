{
 "cells": [
  {
   "cell_type": "code",
   "execution_count": 1,
   "id": "b5330c63",
   "metadata": {},
   "outputs": [],
   "source": [
    "import hashlib"
   ]
  },
  {
   "cell_type": "code",
   "execution_count": null,
   "id": "b0da74d2",
   "metadata": {},
   "outputs": [],
   "source": []
  },
  {
   "cell_type": "code",
   "execution_count": 2,
   "id": "bb188e3b",
   "metadata": {},
   "outputs": [],
   "source": [
    "h = hashlib.sha256()"
   ]
  },
  {
   "cell_type": "code",
   "execution_count": 3,
   "id": "b6fab200",
   "metadata": {},
   "outputs": [],
   "source": [
    "h.update(b'Genesis')"
   ]
  },
  {
   "cell_type": "code",
   "execution_count": 4,
   "id": "06d91db2",
   "metadata": {},
   "outputs": [
    {
     "data": {
      "text/plain": [
       "'81ddc8d248b2dccdd3fdd5e84f0cad62b08f2d10b57f9a831c13451e5c5c80a5'"
      ]
     },
     "execution_count": 4,
     "metadata": {},
     "output_type": "execute_result"
    }
   ],
   "source": [
    "h.hexdigest()"
   ]
  },
  {
   "cell_type": "code",
   "execution_count": null,
   "id": "7886f705",
   "metadata": {},
   "outputs": [],
   "source": []
  },
  {
   "cell_type": "code",
   "execution_count": 5,
   "id": "cbadaf82",
   "metadata": {},
   "outputs": [
    {
     "data": {
      "text/plain": [
       "'e6a4ed451a056b92e6448a5fae97f00a4e601569ef0b934ef1afd37026754739'"
      ]
     },
     "execution_count": 5,
     "metadata": {},
     "output_type": "execute_result"
    }
   ],
   "source": [
    "h.update(b'Genesiis')\n",
    "h.hexdigest()"
   ]
  },
  {
   "cell_type": "code",
   "execution_count": null,
   "id": "1ca7f8cf",
   "metadata": {},
   "outputs": [],
   "source": []
  },
  {
   "cell_type": "code",
   "execution_count": null,
   "id": "0673c8a5",
   "metadata": {},
   "outputs": [],
   "source": [
    "# 암호화"
   ]
  },
  {
   "cell_type": "code",
   "execution_count": 16,
   "id": "ed147749",
   "metadata": {},
   "outputs": [],
   "source": [
    "import os\n",
    "\n",
    "def save_passwd():\n",
    "    with open('passwd.txt', 'w') as f:\n",
    "        passwd = input('패스워드를 입력하세요')\n",
    "        result = hashlib.sha256(passwd.encode())\n",
    "        f.write(result.hexdigest())"
   ]
  },
  {
   "cell_type": "code",
   "execution_count": 17,
   "id": "67cec519",
   "metadata": {},
   "outputs": [
    {
     "name": "stdout",
     "output_type": "stream",
     "text": [
      "패스워드를 입력하세요1234\n"
     ]
    }
   ],
   "source": [
    "save_passwd()"
   ]
  },
  {
   "cell_type": "code",
   "execution_count": null,
   "id": "27175047",
   "metadata": {},
   "outputs": [],
   "source": []
  },
  {
   "cell_type": "code",
   "execution_count": 18,
   "id": "777bb6de",
   "metadata": {},
   "outputs": [],
   "source": [
    "def check_passwd():\n",
    "    if os.path.exists('passwd.txt'):\n",
    "        before_passwd = input('기존의 비밀번호를 입력하세요')\n",
    "        m = hashlib.sha256()\n",
    "        m.update(before_passwd.encode('utf_8'))\n",
    "        \n",
    "        with open('passwd.txt', 'r')as f:\n",
    "            comp = str(m.hexdigest()).strip() == str(f.read()).strip()\n",
    "            return comp\n",
    "    else:\n",
    "        return True"
   ]
  },
  {
   "cell_type": "code",
   "execution_count": null,
   "id": "dc373b74",
   "metadata": {},
   "outputs": [],
   "source": []
  },
  {
   "cell_type": "code",
   "execution_count": 20,
   "id": "8f82acef",
   "metadata": {},
   "outputs": [
    {
     "name": "stdout",
     "output_type": "stream",
     "text": [
      "기존의 비밀번호를 입력하세요15\n"
     ]
    },
    {
     "data": {
      "text/plain": [
       "False"
      ]
     },
     "execution_count": 20,
     "metadata": {},
     "output_type": "execute_result"
    }
   ],
   "source": [
    "check_passwd()"
   ]
  },
  {
   "cell_type": "code",
   "execution_count": null,
   "id": "0f178359",
   "metadata": {},
   "outputs": [],
   "source": []
  },
  {
   "cell_type": "code",
   "execution_count": 21,
   "id": "d4c9e685",
   "metadata": {},
   "outputs": [],
   "source": [
    "def change_passwd():\n",
    "    if check_passwd():\n",
    "        with open('passwd.txt', 'w')as f:\n",
    "            passwd = input('새로운 비밀번호를 입력하세요')\n",
    "            result = hashlib.sha256(passwd.encode())\n",
    "            f.write(result.hexdigest())\n",
    "    else:\n",
    "        print('비밀번호가 틀립니다')"
   ]
  },
  {
   "cell_type": "code",
   "execution_count": 22,
   "id": "ae7fc7fe",
   "metadata": {},
   "outputs": [
    {
     "name": "stdout",
     "output_type": "stream",
     "text": [
      "기존의 비밀번호를 입력하세요1234\n",
      "새로운 비밀번호를 입력하세요1234\n"
     ]
    }
   ],
   "source": [
    "change_passwd()"
   ]
  },
  {
   "cell_type": "code",
   "execution_count": null,
   "id": "c26f06a4",
   "metadata": {},
   "outputs": [],
   "source": []
  },
  {
   "cell_type": "code",
   "execution_count": 24,
   "id": "33ff16b2",
   "metadata": {},
   "outputs": [],
   "source": [
    "text = '''\n",
    "토트넘 홋스퍼의 손흥민이 아시아 선수 최초로 잉글랜드 프리미어리그 득점왕에 오르는 새 역사를 썼다. 이 가운데 한국인으로 추정되는 일부 네티즌들이 손흥민의 득점왕 경쟁자 모하메드 살라의 소셜미디어(SNS)에 몰려가 비난조의 댓글을 쏟아내 눈살을 찌푸리게 했다.\n",
    "23일(한국시간) 손흥민은 영국 노리치의 캐로우 로드에서 치러진 노리치시티와 2021-2022시즌 잉글랜드 프리미어리그(EPL) 최종전에서 22~23호 멀티골을 작렬시키며 팀의 5대0 대승을 이끌었다.\n",
    "이날 후반에 극적으로 터진 22호 골로 손흥민은 리그 득점 선두 살라(리버풀, 22골)를 턱밑까지 추격했다. 나아가 손흥민은 22호골을 넣은지 얼마 지나지도 않은 후반 25분, 23호골까지 터뜨리며 득점 단독 선두 자리를 꿰찼다.\n",
    "그런데 당초 이날 선발 라인업에서 제외되며 벤치에서 경기를 지켜볼 것으로 예상됐던 살라가 돌연 경기에 모습을 드러냈고, 후반 39분 자신의 리그 23호골까지 뽑아냈다.'''"
   ]
  },
  {
   "cell_type": "code",
   "execution_count": 25,
   "id": "0e4665c4",
   "metadata": {},
   "outputs": [
    {
     "name": "stdout",
     "output_type": "stream",
     "text": [
      "593eb6dbc77983f5a1a2ee0eeed226ec2f84e4d7b2e3b27c3e6bd6d94e86aabe\n"
     ]
    }
   ],
   "source": [
    "m = hashlib.sha256()\n",
    "m.update(text.encode('utf_8'))\n",
    "print(m.hexdigest())"
   ]
  },
  {
   "cell_type": "code",
   "execution_count": 26,
   "id": "f70eb241",
   "metadata": {},
   "outputs": [],
   "source": [
    "text = '''\n",
    "토트넘 홋스퍼의 손흥민이 아시아 선수 최초로 잉글랜드 프리미어리그 득점왕에 오르는 새 역사를 썼다. 이 가운데 한국인으로 추정되는 일부 네티즌들이 손흥민의 득점왕 경쟁자 모하메드 살라의 소셜미디어(SNS)에 몰려가 비난조의 댓글을 쏟아내 눈살을 찌푸리게 했다.\n",
    "23일(한국시간) 손흥민은 영국 노리치의 캐로우 로드에서 치러진 노리치시티와 2021-2022시즌 잉글랜드 프리미어리그(EPL) 최종전에서 22~23호 멀티골을 작렬시키며 팀의 5대0 대승을 이끌었다.\n",
    "이날 후반에 극적으로 터진 22호 골로 손흥민은 리그 득점 선두 살라(리버풀, 22골)를 턱밑까지 추격했다. 나아가 손흥민은 22호골을 넣은지 얼마 지나지도 않은 후반 25분, 23호골까지 터뜨리며 득점 단독 선두 자리를 꿰찼다.\n",
    "그런데 당초 이날 선발 라인업에서 제외되며 벤치에서 경기를 지켜볼 것으로 예상됐던 살라가 돌연 경기에 모습을 드러냈고, 후반 39분 자신의 리그 23호골까지 뽑아냈다다.'''"
   ]
  },
  {
   "cell_type": "code",
   "execution_count": 27,
   "id": "99e63d17",
   "metadata": {},
   "outputs": [
    {
     "name": "stdout",
     "output_type": "stream",
     "text": [
      "d0bce688038aac9699b7f734ce2e11d0334aa062a5fcf8841417af911e976bb9\n"
     ]
    }
   ],
   "source": [
    "m = hashlib.sha256()\n",
    "m.update(text.encode('utf_8'))\n",
    "print(m.hexdigest())"
   ]
  },
  {
   "cell_type": "code",
   "execution_count": null,
   "id": "94dca17d",
   "metadata": {},
   "outputs": [],
   "source": []
  },
  {
   "cell_type": "code",
   "execution_count": null,
   "id": "0b0b7fb6",
   "metadata": {},
   "outputs": [],
   "source": []
  },
  {
   "cell_type": "code",
   "execution_count": null,
   "id": "3a5490de",
   "metadata": {},
   "outputs": [],
   "source": []
  },
  {
   "cell_type": "code",
   "execution_count": 29,
   "id": "88b80c59",
   "metadata": {},
   "outputs": [],
   "source": [
    "# 채굴(minning)\n",
    "\n",
    "# 특정한 조건을 만족하는 hash값을 찾는 연산을 반복하는 것\n",
    "# 채굴에 성공한 경우에만 블록에 체인에 연결이 됨\n",
    "# 채굴에 성공하면 보상으로 코인을 받는다."
   ]
  },
  {
   "cell_type": "code",
   "execution_count": 38,
   "id": "4f509262",
   "metadata": {},
   "outputs": [
    {
     "name": "stdout",
     "output_type": "stream",
     "text": [
      "Hash :000000075da346de8d323822f7d7b16ecdf90635fd10f82693f14a78d4b3507b\n",
      "Nounce : 29593205\n",
      "Minning took 55.80276703834534s!\n"
     ]
    }
   ],
   "source": [
    "from hashlib import sha256\n",
    "import time\n",
    "\n",
    "max_nounce = int(1e10)\n",
    "difficulty = 7\n",
    "\n",
    "block_number = 667745\n",
    "transactions = \"\"\"\n",
    "A -> B : 10\n",
    "D -> A : 99\n",
    "c -> Z : 1\n",
    "\"\"\"\n",
    "\n",
    "previous_hash = '593eb6dbc77983f5a1a2ee0eeed226ec2f84e4d7b2e3b27c3e6bd6d94e86aabe'\n",
    "\n",
    "new_hash = None\n",
    "\n",
    "st_time = time.time()\n",
    "\n",
    "for nounce in range(max_nounce):\n",
    "    block_header = str(block_number) + transactions + previous_hash + str(nounce)\n",
    "    new_hash = sha256(block_header.encode('ascii')).hexdigest()\n",
    "    \n",
    "    if new_hash.startswith('0' * difficulty):\n",
    "        print(f'Hash :{new_hash}')\n",
    "        print(f'Nounce : {nounce}')\n",
    "        break\n",
    "\n",
    "if new_hash is None:\n",
    "    print('cannot find new hash')\n",
    "\n",
    "print(f'Minning took {time.time() - st_time}s!')"
   ]
  },
  {
   "cell_type": "code",
   "execution_count": null,
   "id": "702fbe6c",
   "metadata": {},
   "outputs": [],
   "source": []
  },
  {
   "cell_type": "code",
   "execution_count": null,
   "id": "def54f41",
   "metadata": {},
   "outputs": [],
   "source": []
  },
  {
   "cell_type": "code",
   "execution_count": 39,
   "id": "32e387db",
   "metadata": {},
   "outputs": [],
   "source": [
    "# chain 구성\n",
    "# transaction > block > 채굴 > chain 추가"
   ]
  },
  {
   "cell_type": "code",
   "execution_count": 40,
   "id": "59264acd",
   "metadata": {},
   "outputs": [],
   "source": [
    "tr1 = '호준 -> 길동, 1코인'\n",
    "tr2 = '길동 -> 미자, 2코인'\n",
    "tr3 = '춘향 -> 준호, 3코인'\n",
    "tr4 = '준길 -> 상호, 1코인'\n",
    "tr5 = '나미 -> 준호, 3코인'\n",
    "tr6 = '정자 -> 미자, 2코인'"
   ]
  },
  {
   "cell_type": "code",
   "execution_count": 65,
   "id": "158e3c3f",
   "metadata": {},
   "outputs": [],
   "source": [
    "class bitCoin:\n",
    "    def __init__(self, 앞블록해쉬, 트랜젝션리스트):\n",
    "        self.앞블록해쉬 = 앞블록해쉬\n",
    "        self.트랜젝션리스트 = 트랜젝션리스트\n",
    "        self.블록 = '- 트렌젝션 :' + ' \\n - 트렌젝션 : '.join(트랜젝션리스트) + \\\n",
    "        ' \\n - 앞블록헤쉬 :' + 앞블록해쉬\n",
    "        self.블록해쉬 = hashlib.sha256(self.블록.encode()).hexdigest()"
   ]
  },
  {
   "cell_type": "code",
   "execution_count": 66,
   "id": "e552e3f5",
   "metadata": {},
   "outputs": [],
   "source": [
    "블록1 = bitCoin('random_initial_text', [tr1, tr2])"
   ]
  },
  {
   "cell_type": "code",
   "execution_count": 67,
   "id": "ae2e67b5",
   "metadata": {},
   "outputs": [
    {
     "data": {
      "text/plain": [
       "'- 트렌젝션 :호준 -> 길동, 1코인 \\n - 트렌젝션 : 길동 -> 미자, 2코인 \\n - 앞블록헤쉬 :random_initial_text'"
      ]
     },
     "execution_count": 67,
     "metadata": {},
     "output_type": "execute_result"
    }
   ],
   "source": [
    "블록1.블록"
   ]
  },
  {
   "cell_type": "code",
   "execution_count": 68,
   "id": "df04dc2f",
   "metadata": {},
   "outputs": [
    {
     "data": {
      "text/plain": [
       "'c689e60ffcc5b31a9881692e378784e56769c415f76f4992704a3bc01cb23993'"
      ]
     },
     "execution_count": 68,
     "metadata": {},
     "output_type": "execute_result"
    }
   ],
   "source": [
    "블록1.블록해쉬"
   ]
  },
  {
   "cell_type": "code",
   "execution_count": null,
   "id": "57ee711d",
   "metadata": {},
   "outputs": [],
   "source": []
  },
  {
   "cell_type": "code",
   "execution_count": 70,
   "id": "748abdd6",
   "metadata": {},
   "outputs": [],
   "source": [
    "블록2 = bitCoin(블록1.블록해쉬, [tr3, tr4])"
   ]
  },
  {
   "cell_type": "code",
   "execution_count": 71,
   "id": "de738bb8",
   "metadata": {},
   "outputs": [
    {
     "data": {
      "text/plain": [
       "'- 트렌젝션 :춘향 -> 준호, 3코인 \\n - 트렌젝션 : 준길 -> 상호, 1코인 \\n - 앞블록헤쉬 :c689e60ffcc5b31a9881692e378784e56769c415f76f4992704a3bc01cb23993'"
      ]
     },
     "execution_count": 71,
     "metadata": {},
     "output_type": "execute_result"
    }
   ],
   "source": [
    "블록2.블록"
   ]
  },
  {
   "cell_type": "code",
   "execution_count": 72,
   "id": "c911d9a3",
   "metadata": {},
   "outputs": [
    {
     "data": {
      "text/plain": [
       "'63dfa2141467421d8f94684bba465b11a441424c0173856896a675b93d6cddff'"
      ]
     },
     "execution_count": 72,
     "metadata": {},
     "output_type": "execute_result"
    }
   ],
   "source": [
    "블록2.블록해쉬"
   ]
  },
  {
   "cell_type": "code",
   "execution_count": null,
   "id": "fa6229d6",
   "metadata": {},
   "outputs": [],
   "source": []
  },
  {
   "cell_type": "code",
   "execution_count": 73,
   "id": "745e42ca",
   "metadata": {},
   "outputs": [],
   "source": [
    "블록3 = bitCoin(블록2.블록해쉬, [tr5, tr6])"
   ]
  },
  {
   "cell_type": "code",
   "execution_count": 74,
   "id": "c95e3294",
   "metadata": {},
   "outputs": [
    {
     "data": {
      "text/plain": [
       "'- 트렌젝션 :나미 -> 준호, 3코인 \\n - 트렌젝션 : 정자 -> 미자, 2코인 \\n - 앞블록헤쉬 :63dfa2141467421d8f94684bba465b11a441424c0173856896a675b93d6cddff'"
      ]
     },
     "execution_count": 74,
     "metadata": {},
     "output_type": "execute_result"
    }
   ],
   "source": [
    "블록3.블록"
   ]
  },
  {
   "cell_type": "code",
   "execution_count": 75,
   "id": "b1c2201d",
   "metadata": {},
   "outputs": [
    {
     "data": {
      "text/plain": [
       "'fcb6331f544c99c0ebb9c89ba8a9e438315381653b16519a8cfee941b0cb0a2a'"
      ]
     },
     "execution_count": 75,
     "metadata": {},
     "output_type": "execute_result"
    }
   ],
   "source": [
    "블록3.블록해쉬"
   ]
  },
  {
   "cell_type": "code",
   "execution_count": null,
   "id": "2ee7b614",
   "metadata": {},
   "outputs": [],
   "source": []
  },
  {
   "cell_type": "code",
   "execution_count": null,
   "id": "3158c348",
   "metadata": {},
   "outputs": [],
   "source": []
  },
  {
   "cell_type": "code",
   "execution_count": null,
   "id": "d6752902",
   "metadata": {},
   "outputs": [],
   "source": []
  },
  {
   "cell_type": "code",
   "execution_count": null,
   "id": "1577db93",
   "metadata": {},
   "outputs": [],
   "source": []
  },
  {
   "cell_type": "code",
   "execution_count": null,
   "id": "538f4c5a",
   "metadata": {},
   "outputs": [],
   "source": []
  },
  {
   "cell_type": "code",
   "execution_count": null,
   "id": "63022205",
   "metadata": {},
   "outputs": [],
   "source": []
  },
  {
   "cell_type": "code",
   "execution_count": null,
   "id": "e5e30781",
   "metadata": {},
   "outputs": [],
   "source": []
  },
  {
   "cell_type": "code",
   "execution_count": null,
   "id": "fc91bbe8",
   "metadata": {},
   "outputs": [],
   "source": []
  },
  {
   "cell_type": "code",
   "execution_count": null,
   "id": "b561153a",
   "metadata": {},
   "outputs": [],
   "source": []
  },
  {
   "cell_type": "code",
   "execution_count": null,
   "id": "e76bc198",
   "metadata": {},
   "outputs": [],
   "source": []
  },
  {
   "cell_type": "code",
   "execution_count": null,
   "id": "4679c19a",
   "metadata": {},
   "outputs": [],
   "source": []
  },
  {
   "cell_type": "code",
   "execution_count": null,
   "id": "d0fd82f9",
   "metadata": {},
   "outputs": [],
   "source": []
  },
  {
   "cell_type": "code",
   "execution_count": null,
   "id": "5a263ef5",
   "metadata": {},
   "outputs": [],
   "source": []
  },
  {
   "cell_type": "code",
   "execution_count": null,
   "id": "97cc8abe",
   "metadata": {},
   "outputs": [],
   "source": []
  },
  {
   "cell_type": "code",
   "execution_count": null,
   "id": "2abcef46",
   "metadata": {},
   "outputs": [],
   "source": []
  },
  {
   "cell_type": "code",
   "execution_count": null,
   "id": "a8be885c",
   "metadata": {},
   "outputs": [],
   "source": []
  },
  {
   "cell_type": "code",
   "execution_count": null,
   "id": "a4e6b381",
   "metadata": {},
   "outputs": [],
   "source": []
  },
  {
   "cell_type": "code",
   "execution_count": null,
   "id": "1df5e5e6",
   "metadata": {},
   "outputs": [],
   "source": []
  },
  {
   "cell_type": "code",
   "execution_count": null,
   "id": "a97f475d",
   "metadata": {},
   "outputs": [],
   "source": []
  },
  {
   "cell_type": "code",
   "execution_count": null,
   "id": "6a659cf1",
   "metadata": {},
   "outputs": [],
   "source": []
  },
  {
   "cell_type": "code",
   "execution_count": null,
   "id": "4193b338",
   "metadata": {},
   "outputs": [],
   "source": []
  },
  {
   "cell_type": "code",
   "execution_count": null,
   "id": "86a77390",
   "metadata": {},
   "outputs": [],
   "source": []
  },
  {
   "cell_type": "code",
   "execution_count": null,
   "id": "731da645",
   "metadata": {},
   "outputs": [],
   "source": []
  },
  {
   "cell_type": "code",
   "execution_count": null,
   "id": "caab5196",
   "metadata": {},
   "outputs": [],
   "source": []
  },
  {
   "cell_type": "code",
   "execution_count": null,
   "id": "783dadf1",
   "metadata": {},
   "outputs": [],
   "source": []
  },
  {
   "cell_type": "code",
   "execution_count": null,
   "id": "74fd8f5f",
   "metadata": {},
   "outputs": [],
   "source": []
  },
  {
   "cell_type": "code",
   "execution_count": null,
   "id": "197daf5f",
   "metadata": {},
   "outputs": [],
   "source": []
  },
  {
   "cell_type": "code",
   "execution_count": null,
   "id": "e4d8d02f",
   "metadata": {},
   "outputs": [],
   "source": []
  },
  {
   "cell_type": "code",
   "execution_count": null,
   "id": "98c88032",
   "metadata": {},
   "outputs": [],
   "source": []
  },
  {
   "cell_type": "code",
   "execution_count": null,
   "id": "c20ba068",
   "metadata": {},
   "outputs": [],
   "source": []
  },
  {
   "cell_type": "code",
   "execution_count": null,
   "id": "183806c6",
   "metadata": {},
   "outputs": [],
   "source": []
  },
  {
   "cell_type": "code",
   "execution_count": null,
   "id": "ee725127",
   "metadata": {},
   "outputs": [],
   "source": []
  },
  {
   "cell_type": "code",
   "execution_count": null,
   "id": "2b00b0ed",
   "metadata": {},
   "outputs": [],
   "source": []
  },
  {
   "cell_type": "code",
   "execution_count": null,
   "id": "d0cbd1b9",
   "metadata": {},
   "outputs": [],
   "source": []
  },
  {
   "cell_type": "code",
   "execution_count": null,
   "id": "61e4877f",
   "metadata": {},
   "outputs": [],
   "source": []
  },
  {
   "cell_type": "code",
   "execution_count": null,
   "id": "c5260d76",
   "metadata": {},
   "outputs": [],
   "source": []
  },
  {
   "cell_type": "code",
   "execution_count": null,
   "id": "c5aab7ef",
   "metadata": {},
   "outputs": [],
   "source": []
  },
  {
   "cell_type": "code",
   "execution_count": null,
   "id": "6c0de4d1",
   "metadata": {},
   "outputs": [],
   "source": []
  },
  {
   "cell_type": "code",
   "execution_count": null,
   "id": "0bf33665",
   "metadata": {},
   "outputs": [],
   "source": []
  },
  {
   "cell_type": "code",
   "execution_count": null,
   "id": "f5867889",
   "metadata": {},
   "outputs": [],
   "source": []
  },
  {
   "cell_type": "code",
   "execution_count": null,
   "id": "ea5b8ca5",
   "metadata": {},
   "outputs": [],
   "source": []
  },
  {
   "cell_type": "code",
   "execution_count": null,
   "id": "28df58dd",
   "metadata": {},
   "outputs": [],
   "source": []
  },
  {
   "cell_type": "code",
   "execution_count": null,
   "id": "0d523e49",
   "metadata": {},
   "outputs": [],
   "source": []
  },
  {
   "cell_type": "code",
   "execution_count": null,
   "id": "83355ad1",
   "metadata": {},
   "outputs": [],
   "source": []
  },
  {
   "cell_type": "code",
   "execution_count": null,
   "id": "27d0e5e4",
   "metadata": {},
   "outputs": [],
   "source": []
  },
  {
   "cell_type": "code",
   "execution_count": null,
   "id": "2ae75c84",
   "metadata": {},
   "outputs": [],
   "source": []
  },
  {
   "cell_type": "code",
   "execution_count": null,
   "id": "6d97d27b",
   "metadata": {},
   "outputs": [],
   "source": []
  },
  {
   "cell_type": "code",
   "execution_count": null,
   "id": "b85e8d83",
   "metadata": {},
   "outputs": [],
   "source": []
  },
  {
   "cell_type": "code",
   "execution_count": null,
   "id": "09a01e03",
   "metadata": {},
   "outputs": [],
   "source": []
  },
  {
   "cell_type": "code",
   "execution_count": null,
   "id": "53b523c9",
   "metadata": {},
   "outputs": [],
   "source": []
  },
  {
   "cell_type": "code",
   "execution_count": null,
   "id": "fa5c91a2",
   "metadata": {},
   "outputs": [],
   "source": []
  },
  {
   "cell_type": "code",
   "execution_count": null,
   "id": "60ece922",
   "metadata": {},
   "outputs": [],
   "source": []
  },
  {
   "cell_type": "code",
   "execution_count": null,
   "id": "c8964434",
   "metadata": {},
   "outputs": [],
   "source": []
  },
  {
   "cell_type": "code",
   "execution_count": null,
   "id": "aac4c9e8",
   "metadata": {},
   "outputs": [],
   "source": []
  },
  {
   "cell_type": "code",
   "execution_count": null,
   "id": "40e539df",
   "metadata": {},
   "outputs": [],
   "source": []
  },
  {
   "cell_type": "code",
   "execution_count": null,
   "id": "a0eda310",
   "metadata": {},
   "outputs": [],
   "source": []
  },
  {
   "cell_type": "code",
   "execution_count": null,
   "id": "136687da",
   "metadata": {},
   "outputs": [],
   "source": []
  },
  {
   "cell_type": "code",
   "execution_count": null,
   "id": "003a3f22",
   "metadata": {},
   "outputs": [],
   "source": []
  },
  {
   "cell_type": "code",
   "execution_count": null,
   "id": "96d83613",
   "metadata": {},
   "outputs": [],
   "source": []
  },
  {
   "cell_type": "code",
   "execution_count": null,
   "id": "c8a84e65",
   "metadata": {},
   "outputs": [],
   "source": []
  },
  {
   "cell_type": "code",
   "execution_count": null,
   "id": "dfda20bf",
   "metadata": {},
   "outputs": [],
   "source": []
  },
  {
   "cell_type": "code",
   "execution_count": null,
   "id": "ea72952b",
   "metadata": {},
   "outputs": [],
   "source": []
  },
  {
   "cell_type": "code",
   "execution_count": null,
   "id": "4a7a9759",
   "metadata": {},
   "outputs": [],
   "source": []
  },
  {
   "cell_type": "code",
   "execution_count": null,
   "id": "4ad58288",
   "metadata": {},
   "outputs": [],
   "source": []
  },
  {
   "cell_type": "code",
   "execution_count": null,
   "id": "a38dbd60",
   "metadata": {},
   "outputs": [],
   "source": []
  },
  {
   "cell_type": "code",
   "execution_count": null,
   "id": "b35c6424",
   "metadata": {},
   "outputs": [],
   "source": []
  },
  {
   "cell_type": "code",
   "execution_count": null,
   "id": "dfada065",
   "metadata": {},
   "outputs": [],
   "source": []
  },
  {
   "cell_type": "code",
   "execution_count": null,
   "id": "4810208f",
   "metadata": {},
   "outputs": [],
   "source": []
  },
  {
   "cell_type": "code",
   "execution_count": null,
   "id": "613127ed",
   "metadata": {},
   "outputs": [],
   "source": []
  },
  {
   "cell_type": "code",
   "execution_count": null,
   "id": "91336683",
   "metadata": {},
   "outputs": [],
   "source": []
  },
  {
   "cell_type": "code",
   "execution_count": null,
   "id": "149bf88b",
   "metadata": {},
   "outputs": [],
   "source": []
  },
  {
   "cell_type": "code",
   "execution_count": null,
   "id": "ce98625f",
   "metadata": {},
   "outputs": [],
   "source": []
  },
  {
   "cell_type": "code",
   "execution_count": null,
   "id": "44449368",
   "metadata": {},
   "outputs": [],
   "source": []
  },
  {
   "cell_type": "code",
   "execution_count": null,
   "id": "b0d0eeb2",
   "metadata": {},
   "outputs": [],
   "source": []
  },
  {
   "cell_type": "code",
   "execution_count": null,
   "id": "b7bd7e79",
   "metadata": {},
   "outputs": [],
   "source": []
  },
  {
   "cell_type": "code",
   "execution_count": null,
   "id": "68bf81f1",
   "metadata": {},
   "outputs": [],
   "source": []
  },
  {
   "cell_type": "code",
   "execution_count": null,
   "id": "23586e3b",
   "metadata": {},
   "outputs": [],
   "source": []
  },
  {
   "cell_type": "code",
   "execution_count": null,
   "id": "e523891b",
   "metadata": {},
   "outputs": [],
   "source": []
  },
  {
   "cell_type": "code",
   "execution_count": null,
   "id": "f18812fe",
   "metadata": {},
   "outputs": [],
   "source": []
  },
  {
   "cell_type": "code",
   "execution_count": null,
   "id": "ef174064",
   "metadata": {},
   "outputs": [],
   "source": []
  },
  {
   "cell_type": "code",
   "execution_count": null,
   "id": "502d0a49",
   "metadata": {},
   "outputs": [],
   "source": []
  },
  {
   "cell_type": "code",
   "execution_count": null,
   "id": "c1630522",
   "metadata": {},
   "outputs": [],
   "source": []
  },
  {
   "cell_type": "code",
   "execution_count": null,
   "id": "46781698",
   "metadata": {},
   "outputs": [],
   "source": []
  }
 ],
 "metadata": {
  "kernelspec": {
   "display_name": "Python 3 (ipykernel)",
   "language": "python",
   "name": "python3"
  },
  "language_info": {
   "codemirror_mode": {
    "name": "ipython",
    "version": 3
   },
   "file_extension": ".py",
   "mimetype": "text/x-python",
   "name": "python",
   "nbconvert_exporter": "python",
   "pygments_lexer": "ipython3",
   "version": "3.9.7"
  }
 },
 "nbformat": 4,
 "nbformat_minor": 5
}
